{
 "cells": [
  {
   "cell_type": "code",
   "execution_count": null,
   "id": "0ea5d5b8-884d-4496-adff-2e3a857782a5",
   "metadata": {},
   "outputs": [],
   "source": [
    "## This notebook compares Palliative Care spending (2024) and Total Medicare spending\n",
    "## "
   ]
  }
 ],
 "metadata": {
  "kernelspec": {
   "display_name": "Python 3 (ipykernel)",
   "language": "python",
   "name": "python3"
  },
  "language_info": {
   "codemirror_mode": {
    "name": "ipython",
    "version": 3
   },
   "file_extension": ".py",
   "mimetype": "text/x-python",
   "name": "python",
   "nbconvert_exporter": "python",
   "pygments_lexer": "ipython3",
   "version": "3.10.6"
  }
 },
 "nbformat": 4,
 "nbformat_minor": 5
}
